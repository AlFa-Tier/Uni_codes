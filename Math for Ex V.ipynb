{
 "cells": [
  {
   "cell_type": "code",
   "execution_count": 1,
   "metadata": {},
   "outputs": [],
   "source": [
    "import numpy as np \n",
    "import scipy as sp\n",
    "import matplotlib.pyplot as plt"
   ]
  },
  {
   "cell_type": "code",
   "execution_count": 3,
   "metadata": {},
   "outputs": [],
   "source": [
    "format = \"{:.03e}\".format\n",
    "\n",
    "h = 6.62607015e-34\n",
    "wave = 2e-10\n",
    "m = np.array([9.109e-31, 1.674e-27])\n",
    "kb= 1.38e-23\n",
    "np.set_printoptions(formatter={'float_kind':format})\n",
    "\n",
    "E = ((h**2)/(2*m*wave**2))\n",
    "# print(E)\n",
    "\n",
    "# print(f'{(h*299792458)/wave:.03e}')\n",
    "\n",
    "T = (2*E)/(3*kb)\n",
    "# print (f'{T}')"
   ]
  },
  {
   "cell_type": "code",
   "execution_count": 4,
   "metadata": {},
   "outputs": [
    {
     "name": "stdout",
     "output_type": "stream",
     "text": [
      "1.000e+00\n"
     ]
    }
   ],
   "source": [
    "m_p = 0.938e9\n",
    "E = 6.8e12\n",
    "beta = np.sqrt(1-(m_p**2)/(E**2))\n",
    "print(f'{beta:.03e}')"
   ]
  },
  {
   "cell_type": "code",
   "execution_count": 5,
   "metadata": {},
   "outputs": [
    {
     "name": "stdout",
     "output_type": "stream",
     "text": [
      "15162.00432718873\n",
      "0.9999670222858552\n",
      "6800.0\n",
      "477.27272727272737\n"
     ]
    }
   ],
   "source": [
    "c = sp.constants.speed_of_light\n",
    "h = 1e7\n",
    "tau = 2.2e-6\n",
    "mu = 105e6\n",
    "\n",
    "gamma = h/(c*tau)\n",
    "beta = np.sqrt(1-(1/gamma))\n",
    "T = (gamma-1)*mu*c**2\n",
    "p = gamma* mu* c\n",
    "\n",
    "print(gamma)\n",
    "print(beta)\n",
    "print(E*1e-9)\n",
    "print(p*1e-18)"
   ]
  },
  {
   "cell_type": "code",
   "execution_count": 6,
   "metadata": {},
   "outputs": [
    {
     "name": "stdout",
     "output_type": "stream",
     "text": [
      "[6.975e-02 2.385e-02]\n"
     ]
    }
   ],
   "source": [
    "R = np.array([15.5e-2,5.3e-2])\n",
    "B = 1.5\n",
    "\n",
    "q = 1\n",
    "\n",
    "p = R * B * q * 0.3\n",
    "\n",
    "print(p)\n"
   ]
  },
  {
   "cell_type": "markdown",
   "metadata": {},
   "source": [
    "# Blatt 9 Präzensaufgaben"
   ]
  },
  {
   "cell_type": "code",
   "execution_count": 7,
   "metadata": {},
   "outputs": [
    {
     "name": "stdout",
     "output_type": "stream",
     "text": [
      "0.3747405725\n"
     ]
    }
   ],
   "source": [
    "f0  = 400e6 # 400MHz\n",
    "c = sp.constants.speed_of_light\n",
    "nx = 1\n",
    "\n",
    "lx = (nx * np.pi)/(f0)*(c/(2*np.pi))\n",
    "print(lx)"
   ]
  },
  {
   "cell_type": "markdown",
   "metadata": {},
   "source": [
    "# Hyperbolicus dinguns"
   ]
  },
  {
   "cell_type": "code",
   "execution_count": 20,
   "metadata": {},
   "outputs": [
    {
     "data": {
      "image/png": "[encoded data removed]",
      "text/plain": [
       "<Figure size 640x480 with 1 Axes>"
      ]
     },
     "metadata": {},
     "output_type": "display_data"
    }
   ],
   "source": [
    "x = np.linspace(1,5,1000)\n",
    "def y(x):\n",
    "    return np.sqrt(x**2 - 1), -np.sqrt(x**2 - 1)\n",
    "plt.plot(x, y(x)[0])\n",
    "plt.plot(x, y(x)[1])\n",
    "plt.show()"
   ]
  }
 ],
 "metadata": {
  "kernelspec": {
   "display_name": ".venv",
   "language": "python",
   "name": "python3"
  },
  "language_info": {
   "codemirror_mode": {
    "name": "ipython",
    "version": 3
   },
   "file_extension": ".py",
   "mimetype": "text/x-python",
   "name": "python",
   "nbconvert_exporter": "python",
   "pygments_lexer": "ipython3",
   "version": "3.11.9"
  }
 },
 "nbformat": 4,
 "nbformat_minor": 2
}
